{
 "cells": [
  {
   "cell_type": "code",
   "execution_count": 198,
   "metadata": {},
   "outputs": [],
   "source": [
    "import numpy as np\n",
    "import pandas as pd\n",
    "import tensorflow as tf\n",
    "import matplotlib.pyplot as plt\n",
    "%matplotlib inline\n",
    "from sklearn.model_selection import train_test_split\n",
    "from sklearn.preprocessing import MinMaxScaler"
   ]
  },
  {
   "cell_type": "code",
   "execution_count": 199,
   "metadata": {},
   "outputs": [
    {
     "name": "stdout",
     "output_type": "stream",
     "text": [
      "          Fatigue    Soreness      Desire  Irritability  SleepHours  \\\n",
      "count  127.000000  127.000000  127.000000    127.000000  127.000000   \n",
      "mean     3.582677    3.448819    4.755906      4.062992    8.200787   \n",
      "std      0.946514    1.186623    1.013532      0.651592    1.122037   \n",
      "min      1.000000    1.000000    2.000000      1.000000    3.750000   \n",
      "25%      3.000000    3.000000    4.000000      4.000000    7.750000   \n",
      "50%      4.000000    4.000000    4.000000      4.000000    8.500000   \n",
      "75%      4.000000    4.000000    5.000000      4.000000    8.750000   \n",
      "max      6.000000    7.000000    7.000000      6.000000   11.000000   \n",
      "\n",
      "       SleepQuality        Pain     Illness  Menstruation   Nutrition  \\\n",
      "count    127.000000  127.000000  127.000000    127.000000  127.000000   \n",
      "mean       3.393701    0.110236    0.039370      0.118110    3.755906   \n",
      "std        1.169435    0.314424    0.195244      0.324017    0.431250   \n",
      "min        1.000000    0.000000    0.000000      0.000000    3.000000   \n",
      "25%        3.000000    0.000000    0.000000      0.000000    4.000000   \n",
      "50%        4.000000    0.000000    0.000000      0.000000    4.000000   \n",
      "75%        4.000000    0.000000    0.000000      0.000000    4.000000   \n",
      "max        7.000000    1.000000    1.000000      1.000000    4.000000   \n",
      "\n",
      "       NutritionAdjustment  USGMeasurement         USG  TrainingReadiness  \\\n",
      "count           127.000000      127.000000  127.000000         127.000000   \n",
      "mean              0.897638        0.921260    1.023157           0.824016   \n",
      "std               0.304325        0.270399    0.032587           0.316845   \n",
      "min               0.000000        0.000000    1.005000           0.000000   \n",
      "25%               1.000000        1.000000    1.014000           0.850000   \n",
      "50%               1.000000        1.000000    1.016000           0.950000   \n",
      "75%               1.000000        1.000000    1.019000           1.000000   \n",
      "max               1.000000        1.000000    1.180000           1.000000   \n",
      "\n",
      "       Total_Distance  \n",
      "count      127.000000  \n",
      "mean      1054.098531  \n",
      "std        456.077281  \n",
      "min          2.673335  \n",
      "25%        747.446987  \n",
      "50%       1082.136699  \n",
      "75%       1420.636137  \n",
      "max       1948.098781  \n"
     ]
    }
   ],
   "source": [
    "df=pd.read_csv(\"Training_sets.csv\")\n",
    "print(df.describe())"
   ]
  },
  {
   "cell_type": "code",
   "execution_count": 200,
   "metadata": {},
   "outputs": [],
   "source": [
    "y_val= df[\"Total_Distance\"]\n",
    "x_data=df.drop(\"Total_Distance\",axis=1)"
   ]
  },
  {
   "cell_type": "code",
   "execution_count": 201,
   "metadata": {
    "collapsed": true
   },
   "outputs": [],
   "source": [
    "X_train, X_eval,y_train,y_eval=train_test_split(x_data,y_val,test_size=0.3,random_state=101)"
   ]
  },
  {
   "cell_type": "code",
   "execution_count": 202,
   "metadata": {
    "collapsed": true
   },
   "outputs": [],
   "source": [
    "scaler_model = MinMaxScaler()\n",
    "scaler_model.fit(X_train)\n",
    "\n",
    "X_train=pd.DataFrame(scaler_model.transform(X_train),columns=X_train.columns,index=X_train.index)\n",
    "\n",
    "scaler_model.fit(X_eval)\n",
    "\n",
    "X_eval=pd.DataFrame(scaler_model.transform(X_eval),columns=X_eval.columns,index=X_eval.index)"
   ]
  },
  {
   "cell_type": "code",
   "execution_count": 203,
   "metadata": {},
   "outputs": [],
   "source": [
    "feat_cols=[]\n",
    "for cols in df.columns[:-1]:\n",
    "    column=tf.feature_column.numeric_column(cols)\n",
    "    feat_cols.append(column)"
   ]
  },
  {
   "cell_type": "code",
   "execution_count": 204,
   "metadata": {},
   "outputs": [
    {
     "name": "stdout",
     "output_type": "stream",
     "text": [
      "INFO:tensorflow:Using default config.\n",
      "WARNING:tensorflow:Using temporary folder as model directory: /var/folders/5y/wz7x6nwj0c18pmx95nqrkjy40000gn/T/tmpe0gu1ftp\n",
      "INFO:tensorflow:Using config: {'_model_dir': '/var/folders/5y/wz7x6nwj0c18pmx95nqrkjy40000gn/T/tmpe0gu1ftp', '_tf_random_seed': None, '_save_summary_steps': 100, '_save_checkpoints_steps': None, '_save_checkpoints_secs': 600, '_session_config': allow_soft_placement: true\n",
      "graph_options {\n",
      "  rewrite_options {\n",
      "    meta_optimizer_iterations: ONE\n",
      "  }\n",
      "}\n",
      ", '_keep_checkpoint_max': 5, '_keep_checkpoint_every_n_hours': 10000, '_log_step_count_steps': 100, '_train_distribute': None, '_device_fn': None, '_protocol': None, '_eval_distribute': None, '_experimental_distribute': None, '_service': None, '_cluster_spec': <tensorflow.python.training.server_lib.ClusterSpec object at 0x1a43a8d080>, '_task_type': 'worker', '_task_id': 0, '_global_id_in_cluster': 0, '_master': '', '_evaluation_master': '', '_is_chief': True, '_num_ps_replicas': 0, '_num_worker_replicas': 1}\n"
     ]
    }
   ],
   "source": [
    "#The estimator model\n",
    "model=tf.estimator.DNNRegressor(hidden_units=[40,40,60,100,100,100,40,60,60,60,60,60,60,60,60],feature_columns=feat_cols,\n",
    "                               optimizer=tf.train.ProximalAdagradOptimizer(\n",
    "                                   learning_rate=0.1,\n",
    "                                   l1_regularization_strength=0.001))\n",
    "\n",
    "#the input function\n",
    "input_func=tf.estimator.inputs.pandas_input_fn(X_train,y_train,batch_size=10,num_epochs=1000,shuffle=True)"
   ]
  },
  {
   "cell_type": "code",
   "execution_count": 205,
   "metadata": {},
   "outputs": [
    {
     "name": "stdout",
     "output_type": "stream",
     "text": [
      "INFO:tensorflow:Calling model_fn.\n",
      "INFO:tensorflow:Done calling model_fn.\n",
      "INFO:tensorflow:Create CheckpointSaverHook.\n",
      "INFO:tensorflow:Graph was finalized.\n",
      "INFO:tensorflow:Running local_init_op.\n",
      "INFO:tensorflow:Done running local_init_op.\n",
      "INFO:tensorflow:Saving checkpoints for 0 into /var/folders/5y/wz7x6nwj0c18pmx95nqrkjy40000gn/T/tmpe0gu1ftp/model.ckpt.\n",
      "INFO:tensorflow:loss = 14608640.0, step = 1\n",
      "INFO:tensorflow:global_step/sec: 176.198\n",
      "INFO:tensorflow:loss = 2086101.0, step = 101 (0.570 sec)\n",
      "INFO:tensorflow:global_step/sec: 251.522\n",
      "INFO:tensorflow:loss = 1305468.9, step = 201 (0.398 sec)\n",
      "INFO:tensorflow:global_step/sec: 251.505\n",
      "INFO:tensorflow:loss = 2279851.5, step = 301 (0.412 sec)\n",
      "INFO:tensorflow:global_step/sec: 239.802\n",
      "INFO:tensorflow:loss = 961508.0, step = 401 (0.403 sec)\n",
      "INFO:tensorflow:global_step/sec: 252.411\n",
      "INFO:tensorflow:loss = 860291.1, step = 501 (0.396 sec)\n",
      "INFO:tensorflow:global_step/sec: 240.48\n",
      "INFO:tensorflow:loss = 1096378.6, step = 601 (0.416 sec)\n",
      "INFO:tensorflow:global_step/sec: 243.522\n",
      "INFO:tensorflow:loss = 1455052.5, step = 701 (0.414 sec)\n",
      "INFO:tensorflow:global_step/sec: 254.247\n",
      "INFO:tensorflow:loss = 1104857.4, step = 801 (0.407 sec)\n",
      "INFO:tensorflow:global_step/sec: 235.685\n",
      "INFO:tensorflow:loss = 1691263.6, step = 901 (0.408 sec)\n",
      "INFO:tensorflow:global_step/sec: 246.665\n",
      "INFO:tensorflow:loss = 1617930.0, step = 1001 (0.405 sec)\n",
      "INFO:tensorflow:global_step/sec: 283.699\n",
      "INFO:tensorflow:loss = 885291.75, step = 1101 (0.353 sec)\n",
      "INFO:tensorflow:global_step/sec: 266.592\n",
      "INFO:tensorflow:loss = 1558200.8, step = 1201 (0.375 sec)\n",
      "INFO:tensorflow:global_step/sec: 246.997\n",
      "INFO:tensorflow:loss = 2073405.5, step = 1301 (0.405 sec)\n",
      "INFO:tensorflow:global_step/sec: 226.858\n",
      "INFO:tensorflow:loss = 1261611.6, step = 1401 (0.441 sec)\n",
      "INFO:tensorflow:global_step/sec: 226.932\n",
      "INFO:tensorflow:loss = 738617.06, step = 1501 (0.441 sec)\n",
      "INFO:tensorflow:global_step/sec: 256.597\n",
      "INFO:tensorflow:loss = 1824208.4, step = 1601 (0.390 sec)\n",
      "INFO:tensorflow:global_step/sec: 250.016\n",
      "INFO:tensorflow:loss = 906970.5, step = 1701 (0.400 sec)\n",
      "INFO:tensorflow:global_step/sec: 254.547\n",
      "INFO:tensorflow:loss = 1232550.0, step = 1801 (0.406 sec)\n",
      "INFO:tensorflow:global_step/sec: 234.12\n",
      "INFO:tensorflow:loss = 695480.94, step = 1901 (0.414 sec)\n",
      "INFO:tensorflow:global_step/sec: 282.028\n",
      "INFO:tensorflow:loss = 1192751.0, step = 2001 (0.355 sec)\n",
      "INFO:tensorflow:global_step/sec: 253.217\n",
      "INFO:tensorflow:loss = 1197724.6, step = 2101 (0.395 sec)\n",
      "INFO:tensorflow:global_step/sec: 247.457\n",
      "INFO:tensorflow:loss = 1131791.6, step = 2201 (0.404 sec)\n",
      "INFO:tensorflow:global_step/sec: 285.084\n",
      "INFO:tensorflow:loss = 1528361.9, step = 2301 (0.351 sec)\n",
      "INFO:tensorflow:global_step/sec: 291.763\n",
      "INFO:tensorflow:loss = 526747.25, step = 2401 (0.343 sec)\n",
      "INFO:tensorflow:global_step/sec: 260.269\n",
      "INFO:tensorflow:loss = 710252.1, step = 2501 (0.384 sec)\n",
      "INFO:tensorflow:global_step/sec: 265.307\n",
      "INFO:tensorflow:loss = 543913.6, step = 2601 (0.377 sec)\n",
      "INFO:tensorflow:global_step/sec: 249.443\n",
      "INFO:tensorflow:loss = 441360.75, step = 2701 (0.401 sec)\n",
      "INFO:tensorflow:global_step/sec: 271.779\n",
      "INFO:tensorflow:loss = 947482.56, step = 2801 (0.377 sec)\n",
      "INFO:tensorflow:global_step/sec: 277.902\n",
      "INFO:tensorflow:loss = 1635816.8, step = 2901 (0.351 sec)\n",
      "INFO:tensorflow:global_step/sec: 254.022\n",
      "INFO:tensorflow:loss = 140455.64, step = 3001 (0.393 sec)\n",
      "INFO:tensorflow:global_step/sec: 256.954\n",
      "INFO:tensorflow:loss = 650606.94, step = 3101 (0.389 sec)\n",
      "INFO:tensorflow:global_step/sec: 239.451\n",
      "INFO:tensorflow:loss = 641500.5, step = 3201 (0.423 sec)\n",
      "INFO:tensorflow:global_step/sec: 242.554\n",
      "INFO:tensorflow:loss = 368193.38, step = 3301 (0.407 sec)\n",
      "INFO:tensorflow:global_step/sec: 252.93\n",
      "INFO:tensorflow:loss = 355874.0, step = 3401 (0.405 sec)\n",
      "INFO:tensorflow:global_step/sec: 234.395\n",
      "INFO:tensorflow:loss = 611377.6, step = 3501 (0.420 sec)\n",
      "INFO:tensorflow:global_step/sec: 275.364\n",
      "INFO:tensorflow:loss = 254159.69, step = 3601 (0.361 sec)\n",
      "INFO:tensorflow:global_step/sec: 252.796\n",
      "INFO:tensorflow:loss = 355686.2, step = 3701 (0.395 sec)\n",
      "INFO:tensorflow:global_step/sec: 248.083\n",
      "INFO:tensorflow:loss = 271046.25, step = 3801 (0.403 sec)\n",
      "INFO:tensorflow:global_step/sec: 264.172\n",
      "INFO:tensorflow:loss = 474235.3, step = 3901 (0.379 sec)\n",
      "INFO:tensorflow:global_step/sec: 253.302\n",
      "INFO:tensorflow:loss = 856174.25, step = 4001 (0.395 sec)\n",
      "INFO:tensorflow:global_step/sec: 277.565\n",
      "INFO:tensorflow:loss = 263828.28, step = 4101 (0.360 sec)\n",
      "INFO:tensorflow:global_step/sec: 250.957\n",
      "INFO:tensorflow:loss = 1006591.06, step = 4201 (0.398 sec)\n",
      "INFO:tensorflow:global_step/sec: 248.521\n",
      "INFO:tensorflow:loss = 262165.56, step = 4301 (0.402 sec)\n",
      "INFO:tensorflow:global_step/sec: 247.35\n",
      "INFO:tensorflow:loss = 876820.25, step = 4401 (0.407 sec)\n",
      "INFO:tensorflow:global_step/sec: 282.9\n",
      "INFO:tensorflow:loss = 663338.06, step = 4501 (0.351 sec)\n",
      "INFO:tensorflow:global_step/sec: 254.076\n",
      "INFO:tensorflow:loss = 375706.03, step = 4601 (0.394 sec)\n",
      "INFO:tensorflow:global_step/sec: 248.988\n",
      "INFO:tensorflow:loss = 917708.3, step = 4701 (0.401 sec)\n",
      "INFO:tensorflow:global_step/sec: 242.146\n",
      "INFO:tensorflow:loss = 230571.08, step = 4801 (0.420 sec)\n",
      "INFO:tensorflow:global_step/sec: 250.71\n",
      "INFO:tensorflow:loss = 746878.6, step = 4901 (0.392 sec)\n",
      "INFO:tensorflow:global_step/sec: 256.03\n",
      "INFO:tensorflow:loss = 311185.0, step = 5001 (0.391 sec)\n",
      "INFO:tensorflow:global_step/sec: 250.212\n",
      "INFO:tensorflow:loss = 554609.0, step = 5101 (0.400 sec)\n",
      "INFO:tensorflow:global_step/sec: 237.114\n",
      "INFO:tensorflow:loss = 225855.02, step = 5201 (0.422 sec)\n",
      "INFO:tensorflow:global_step/sec: 273.238\n",
      "INFO:tensorflow:loss = 362050.1, step = 5301 (0.371 sec)\n",
      "INFO:tensorflow:global_step/sec: 248.554\n",
      "INFO:tensorflow:loss = 118132.95, step = 5401 (0.397 sec)\n",
      "INFO:tensorflow:global_step/sec: 253.655\n",
      "INFO:tensorflow:loss = 319034.12, step = 5501 (0.394 sec)\n",
      "INFO:tensorflow:global_step/sec: 278.376\n",
      "INFO:tensorflow:loss = 170703.31, step = 5601 (0.359 sec)\n",
      "INFO:tensorflow:global_step/sec: 249.727\n",
      "INFO:tensorflow:loss = 153248.94, step = 5701 (0.400 sec)\n",
      "INFO:tensorflow:global_step/sec: 240.523\n",
      "INFO:tensorflow:loss = 261367.4, step = 5801 (0.418 sec)\n",
      "INFO:tensorflow:global_step/sec: 239.057\n",
      "INFO:tensorflow:loss = 112171.38, step = 5901 (0.416 sec)\n",
      "INFO:tensorflow:global_step/sec: 242.87\n",
      "INFO:tensorflow:loss = 254088.66, step = 6001 (0.412 sec)\n",
      "INFO:tensorflow:global_step/sec: 257.589\n",
      "INFO:tensorflow:loss = 893601.4, step = 6101 (0.393 sec)\n",
      "INFO:tensorflow:global_step/sec: 250.528\n",
      "INFO:tensorflow:loss = 226487.03, step = 6201 (0.394 sec)\n",
      "INFO:tensorflow:global_step/sec: 252.407\n",
      "INFO:tensorflow:loss = 152298.8, step = 6301 (0.396 sec)\n",
      "INFO:tensorflow:global_step/sec: 252.454\n",
      "INFO:tensorflow:loss = 304615.7, step = 6401 (0.396 sec)\n",
      "INFO:tensorflow:global_step/sec: 266.553\n",
      "INFO:tensorflow:loss = 248131.8, step = 6501 (0.378 sec)\n",
      "INFO:tensorflow:global_step/sec: 244.321\n",
      "INFO:tensorflow:loss = 394832.25, step = 6601 (0.407 sec)\n",
      "INFO:tensorflow:global_step/sec: 250.874\n",
      "INFO:tensorflow:loss = 461624.7, step = 6701 (0.399 sec)\n",
      "INFO:tensorflow:global_step/sec: 255.195\n",
      "INFO:tensorflow:loss = 809673.1, step = 6801 (0.392 sec)\n",
      "INFO:tensorflow:global_step/sec: 244.928\n",
      "INFO:tensorflow:loss = 283391.6, step = 6901 (0.415 sec)\n",
      "INFO:tensorflow:global_step/sec: 246.74\n",
      "INFO:tensorflow:loss = 300711.84, step = 7001 (0.399 sec)\n",
      "INFO:tensorflow:global_step/sec: 266.176\n",
      "INFO:tensorflow:loss = 215713.0, step = 7101 (0.376 sec)\n",
      "INFO:tensorflow:global_step/sec: 251.663\n",
      "INFO:tensorflow:loss = 154061.0, step = 7201 (0.397 sec)\n",
      "INFO:tensorflow:global_step/sec: 251.512\n",
      "INFO:tensorflow:loss = 376247.78, step = 7301 (0.398 sec)\n",
      "INFO:tensorflow:global_step/sec: 286.377\n",
      "INFO:tensorflow:loss = 1378496.8, step = 7401 (0.349 sec)\n",
      "INFO:tensorflow:global_step/sec: 254.871\n",
      "INFO:tensorflow:loss = 136310.78, step = 7501 (0.392 sec)\n",
      "INFO:tensorflow:global_step/sec: 243.712\n",
      "INFO:tensorflow:loss = 211376.31, step = 7601 (0.418 sec)\n",
      "INFO:tensorflow:global_step/sec: 248.64\n",
      "INFO:tensorflow:loss = 926292.94, step = 7701 (0.395 sec)\n",
      "INFO:tensorflow:global_step/sec: 253.428\n",
      "INFO:tensorflow:loss = 50346.117, step = 7801 (0.395 sec)\n",
      "INFO:tensorflow:global_step/sec: 276.684\n",
      "INFO:tensorflow:loss = 198479.28, step = 7901 (0.361 sec)\n",
      "INFO:tensorflow:global_step/sec: 253.036\n"
     ]
    },
    {
     "name": "stdout",
     "output_type": "stream",
     "text": [
      "INFO:tensorflow:loss = 339002.94, step = 8001 (0.395 sec)\n",
      "INFO:tensorflow:global_step/sec: 252.071\n",
      "INFO:tensorflow:loss = 185005.22, step = 8101 (0.397 sec)\n",
      "INFO:tensorflow:global_step/sec: 252.863\n",
      "INFO:tensorflow:loss = 96838.76, step = 8201 (0.396 sec)\n",
      "INFO:tensorflow:global_step/sec: 251.133\n",
      "INFO:tensorflow:loss = 37435.13, step = 8301 (0.398 sec)\n",
      "INFO:tensorflow:global_step/sec: 244.98\n",
      "INFO:tensorflow:loss = 574593.4, step = 8401 (0.408 sec)\n",
      "INFO:tensorflow:global_step/sec: 265.971\n",
      "INFO:tensorflow:loss = 205621.34, step = 8501 (0.376 sec)\n",
      "INFO:tensorflow:global_step/sec: 246.844\n",
      "INFO:tensorflow:loss = 56295.55, step = 8601 (0.405 sec)\n",
      "INFO:tensorflow:global_step/sec: 236.232\n",
      "INFO:tensorflow:loss = 101128.28, step = 8701 (0.423 sec)\n",
      "INFO:tensorflow:Saving checkpoints for 8800 into /var/folders/5y/wz7x6nwj0c18pmx95nqrkjy40000gn/T/tmpe0gu1ftp/model.ckpt.\n",
      "INFO:tensorflow:Loss for final step: 165805.8.\n"
     ]
    },
    {
     "data": {
      "text/plain": [
       "<tensorflow_estimator.python.estimator.canned.dnn.DNNRegressor at 0x1a43a6cba8>"
      ]
     },
     "execution_count": 205,
     "metadata": {},
     "output_type": "execute_result"
    }
   ],
   "source": [
    "model.train(input_fn=input_func,steps=15000)"
   ]
  },
  {
   "cell_type": "code",
   "execution_count": 206,
   "metadata": {
    "scrolled": true
   },
   "outputs": [
    {
     "name": "stdout",
     "output_type": "stream",
     "text": [
      "INFO:tensorflow:Calling model_fn.\n",
      "INFO:tensorflow:Done calling model_fn.\n",
      "INFO:tensorflow:Starting evaluation at 2019-05-05T16:39:07Z\n",
      "INFO:tensorflow:Graph was finalized.\n",
      "INFO:tensorflow:Restoring parameters from /var/folders/5y/wz7x6nwj0c18pmx95nqrkjy40000gn/T/tmpe0gu1ftp/model.ckpt-8800\n",
      "INFO:tensorflow:Running local_init_op.\n",
      "INFO:tensorflow:Done running local_init_op.\n",
      "INFO:tensorflow:Evaluation [100/1000]\n",
      "INFO:tensorflow:Evaluation [200/1000]\n",
      "INFO:tensorflow:Evaluation [300/1000]\n",
      "INFO:tensorflow:Evaluation [400/1000]\n",
      "INFO:tensorflow:Evaluation [500/1000]\n",
      "INFO:tensorflow:Evaluation [600/1000]\n",
      "INFO:tensorflow:Evaluation [700/1000]\n",
      "INFO:tensorflow:Evaluation [800/1000]\n",
      "INFO:tensorflow:Evaluation [900/1000]\n",
      "INFO:tensorflow:Evaluation [1000/1000]\n",
      "INFO:tensorflow:Finished evaluation at 2019-05-05-16:39:11\n",
      "INFO:tensorflow:Saving dict for global step 8800: average_loss = 29016.438, global_step = 8800, label/mean = 1066.8798, loss = 290164.38, prediction/mean = 1044.1819\n",
      "INFO:tensorflow:Saving 'checkpoint_path' summary for global step 8800: /var/folders/5y/wz7x6nwj0c18pmx95nqrkjy40000gn/T/tmpe0gu1ftp/model.ckpt-8800\n"
     ]
    }
   ],
   "source": [
    "train_metrics=model.evaluate(input_fn=input_func,steps=1000)"
   ]
  },
  {
   "cell_type": "code",
   "execution_count": 207,
   "metadata": {},
   "outputs": [
    {
     "name": "stdout",
     "output_type": "stream",
     "text": [
      "INFO:tensorflow:Calling model_fn.\n",
      "INFO:tensorflow:Done calling model_fn.\n",
      "INFO:tensorflow:Graph was finalized.\n",
      "INFO:tensorflow:Restoring parameters from /var/folders/5y/wz7x6nwj0c18pmx95nqrkjy40000gn/T/tmpe0gu1ftp/model.ckpt-8800\n",
      "INFO:tensorflow:Running local_init_op.\n",
      "INFO:tensorflow:Done running local_init_op.\n",
      "<class 'float'>\n"
     ]
    }
   ],
   "source": [
    "\n",
    "#Now to predict values we do the following\n",
    "pred_input_func=tf.estimator.inputs.pandas_input_fn(x=x_data,shuffle = False)\n",
    "preds=model.predict(input_fn=pred_input_func)\n",
    "\n",
    "predictions=list(preds)\n",
    "final_pred=[]\n",
    "ok = 1\n",
    "for pred in predictions:\n",
    "    if(ok):\n",
    "        print(type(pred[\"predictions\"][0].item()))\n",
    "        ok = 0\n",
    "    final_pred.append(pred[\"predictions\"][0].item())"
   ]
  },
  {
   "cell_type": "code",
   "execution_count": 208,
   "metadata": {},
   "outputs": [
    {
     "name": "stdout",
     "output_type": "stream",
     "text": [
      "<class 'float'>\n",
      "729.1490593227695\n",
      "2625.66806991457\n"
     ]
    }
   ],
   "source": [
    "import statistics\n",
    "print(type(final_pred[0]))\n",
    "final_pred\n",
    "print(statistics.stdev(final_pred))\n",
    "print(statistics.mean(final_pred))"
   ]
  },
  {
   "cell_type": "code",
   "execution_count": 209,
   "metadata": {},
   "outputs": [
    {
     "name": "stdout",
     "output_type": "stream",
     "text": [
      "456.07728130649383\n",
      "1054.0985314237166\n"
     ]
    }
   ],
   "source": [
    "y_val\n",
    "print(statistics.stdev(y_val))\n",
    "print(statistics.mean(y_val))"
   ]
  },
  {
   "cell_type": "code",
   "execution_count": 210,
   "metadata": {},
   "outputs": [
    {
     "data": {
      "text/plain": [
       "[<matplotlib.lines.Line2D at 0x1a470a4f98>]"
      ]
     },
     "execution_count": 210,
     "metadata": {},
     "output_type": "execute_result"
    },
    {
     "data": {
      "image/png": "[encoded data removed]",
      "text/plain": [
       "<Figure size 432x288 with 1 Axes>"
      ]
     },
     "metadata": {},
     "output_type": "display_data"
    }
   ],
   "source": [
    "plt.plot(y_val)\n",
    "plt.plot(final_pred)"
   ]
  },
  {
   "cell_type": "code",
   "execution_count": null,
   "metadata": {
    "collapsed": true
   },
   "outputs": [],
   "source": []
  }
 ],
 "metadata": {
  "kernelspec": {
   "display_name": "Python 3",
   "language": "python",
   "name": "python3"
  },
  "language_info": {
   "codemirror_mode": {
    "name": "ipython",
    "version": 3
   },
   "file_extension": ".py",
   "mimetype": "text/x-python",
   "name": "python",
   "nbconvert_exporter": "python",
   "pygments_lexer": "ipython3",
   "version": "3.6.3"
  }
 },
 "nbformat": 4,
 "nbformat_minor": 2
}
